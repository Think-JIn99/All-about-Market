{
  "nbformat": 4,
  "nbformat_minor": 0,
  "metadata": {
    "colab": {
      "name": "분산투자.ipynb",
      "provenance": [],
      "collapsed_sections": [],
      "authorship_tag": "ABX9TyN8cWDNsZaO9Wx51RcmbepB",
      "include_colab_link": true
    },
    "kernelspec": {
      "name": "python3",
      "display_name": "Python 3"
    },
    "language_info": {
      "name": "python"
    }
  },
  "cells": [
    {
      "cell_type": "markdown",
      "metadata": {
        "id": "view-in-github",
        "colab_type": "text"
      },
      "source": [
        "<a href=\"https://colab.research.google.com/github/Think-JIn99/All-about-Market/blob/main/%EB%B6%84%EC%82%B0%ED%88%AC%EC%9E%90.ipynb\" target=\"_parent\"><img src=\"https://colab.research.google.com/assets/colab-badge.svg\" alt=\"Open In Colab\"/></a>"
      ]
    },
    {
      "cell_type": "code",
      "execution_count": 1,
      "metadata": {
        "id": "gsBfAOP00rg8"
      },
      "outputs": [],
      "source": [
        "import pandas as pd \n",
        "import seaborn as sns  \n",
        "import numpy as np\n",
        "import sklearn\n",
        "import sklearn.preprocessing\n",
        "import tensorflow as tf\n",
        "import requests\n",
        "import matplotlib.pyplot as plt\n",
        "%matplotlib inline \n"
      ]
    },
    {
      "cell_type": "code",
      "source": [
        "#해당 링크는 한국거래소에서 상장법인목록을 엑셀로 다운로드하는 링크입니다.\n",
        "#다운로드와 동시에 Pandas에 excel 파일이 load가 되는 구조입니다.\n",
        "stock_code = pd.read_html('http://kind.krx.co.kr/corpgeneral/corpList.do?method=download', header=0)[0] \n",
        "#stock_code.head()\n",
        "\n",
        "stock_code.sort_values(['상장일'], ascending=True)\n",
        "\n",
        "stock_code = stock_code[['회사명', '종목코드']] \n",
        "\n",
        "# 한글 컬럼명을 영어로 변경 \n",
        "stock_code = stock_code.rename(columns={'회사명': 'company', '종목코드': 'code'}) \n",
        "\n",
        "# 종목코드가 6자리이기 때문에 6자리를 맞춰주기 위해 설정해줌 \n",
        "stock_code.code = stock_code.code.map('{:06d}'.format) "
      ],
      "metadata": {
        "id": "DKaD1R0o0zkN"
      },
      "execution_count": 163,
      "outputs": []
    },
    {
      "cell_type": "code",
      "source": [
        "class stock:\n",
        "  def __init__(self, company):\n",
        "    self.company = company\n",
        "    self.df = pd.DataFrame()\n",
        "  def make_df(self):\n",
        "    code = stock_code[stock_code.company==self.company].code.values[0].strip() ## strip() : 공백제거\n",
        "    a = 0\n",
        "    #self.df = pd.DataFrame()\n",
        "    for page in range(1,10+1):\n",
        "        a += 1\n",
        "        url = 'http://finance.naver.com/item/sise_day.nhn?code={code}'.format(code=code)     \n",
        "        url = '{url}&page={page}'.format(url=url, page=page)\n",
        "        if a%10 == 0:\n",
        "          print(url)\n",
        "        header = {'User-Agent':'Mozilla/5.0 (Macintosh; Intel Mac OS X 10_15_7) AppleWebKit/537.36 '}  \n",
        "        res = requests.get(url,headers=header)\n",
        "        self.df =self.df.append(pd.read_html(res.text, header=0)[0])\n",
        "        \n",
        "  def echo(self):\n",
        "        print(\"class name:\", self.__class__.__name__) #// 클래스이름을 출력한다\n",
        "\n",
        "  def preprocessing(self):\n",
        "    #self.df.dropna()를 이용해 결측값 있는 행 제거 \n",
        "    self.df =self.df.dropna() \n",
        "\n",
        "      # 한글로 된 컬럼명을 영어로 바꿔줌 \n",
        "    self.df =self.df.rename(columns= {'날짜': 'date', '종가': 'close', '전일비': 'diff', \n",
        "                              '시가': 'open', '고가': 'high', '저가': 'low', '거래량': 'volume'}) \n",
        "      # 데이터의 타입을 int형으로 바꿔줌 \n",
        "    self.df[['close', 'diff', 'open', 'high', 'low', 'volume']] =self.df[['close', 'diff', 'open', 'high', 'low', 'volume']].astype(int) \n",
        "\n",
        "      # 컬럼명 'date'의 타입을 date로 바꿔줌 \n",
        "    self.df['date'] = pd.to_datetime(self.df['date']) \n",
        "\n",
        "      # 일자(date)를 기준으로 오름차순 정렬 \n",
        "    self.df =self.df.sort_values(by=['date'], ascending=True) \n",
        "\n",
        "  def make_chart(self):\n",
        "    plt.figure(figsize=(15,7))\n",
        "    plt.plot(self.df['date'], self.df['close'])\n",
        "    plt.title(\"STOCK\")\n",
        "\n",
        "  def breaking(self):\n",
        "    temp = ((self.df['high'].iloc[:-1].values - self.df['low'].iloc[:-1].values) * 0.5 + self.df['open'].iloc[1:].values)\n",
        "    temp = np.insert(temp, 0, np.nan)\n",
        "    self.df['target'] = temp\n",
        "    self.df['Percent'] = np.where(self.df['high'] > self.df['target'], self.df['close'] / self.df['target'], 1)\n",
        "    self.df['Drop'] = (1 - self.df['Percent'] / self.df['Percent'].cummax()) * 100\n",
        "    seed = 100000\n",
        "    self.df['Profit'] = self.df['Percent'].cumprod() * seed"
      ],
      "metadata": {
        "id": "d3RZMGqgEEBY"
      },
      "execution_count": 164,
      "outputs": []
    },
    {
      "cell_type": "code",
      "source": [
        "samsung = stock('삼성전자')\n",
        "samsung.make_df()\n",
        "samsung.preprocessing()\n",
        "samsung.breaking()\n",
        "samsung.df\n",
        "\n"
      ],
      "metadata": {
        "colab": {
          "base_uri": "https://localhost:8080/",
          "height": 441
        },
        "id": "L_mSEiO_Eyzh",
        "outputId": "2ba45a9b-f29e-455e-c056-281f8d2466ab"
      },
      "execution_count": 165,
      "outputs": [
        {
          "output_type": "stream",
          "name": "stdout",
          "text": [
            "http://finance.naver.com/item/sise_day.nhn?code=005930&page=10\n"
          ]
        },
        {
          "output_type": "execute_result",
          "data": {
            "text/html": [
              "\n",
              "  <div id=\"df-ecd48ac3-ec28-46f2-81c1-7e97ea04cada\">\n",
              "    <div class=\"colab-df-container\">\n",
              "      <div>\n",
              "<style scoped>\n",
              "    .dataframe tbody tr th:only-of-type {\n",
              "        vertical-align: middle;\n",
              "    }\n",
              "\n",
              "    .dataframe tbody tr th {\n",
              "        vertical-align: top;\n",
              "    }\n",
              "\n",
              "    .dataframe thead th {\n",
              "        text-align: right;\n",
              "    }\n",
              "</style>\n",
              "<table border=\"1\" class=\"dataframe\">\n",
              "  <thead>\n",
              "    <tr style=\"text-align: right;\">\n",
              "      <th></th>\n",
              "      <th>date</th>\n",
              "      <th>close</th>\n",
              "      <th>diff</th>\n",
              "      <th>open</th>\n",
              "      <th>high</th>\n",
              "      <th>low</th>\n",
              "      <th>volume</th>\n",
              "      <th>target</th>\n",
              "      <th>Percent</th>\n",
              "      <th>Drop</th>\n",
              "      <th>Profit</th>\n",
              "    </tr>\n",
              "  </thead>\n",
              "  <tbody>\n",
              "    <tr>\n",
              "      <th>13</th>\n",
              "      <td>2021-10-06</td>\n",
              "      <td>71300</td>\n",
              "      <td>900</td>\n",
              "      <td>72600</td>\n",
              "      <td>72800</td>\n",
              "      <td>71200</td>\n",
              "      <td>18956962</td>\n",
              "      <td>NaN</td>\n",
              "      <td>1.000000</td>\n",
              "      <td>0.000000</td>\n",
              "      <td>100000.000000</td>\n",
              "    </tr>\n",
              "    <tr>\n",
              "      <th>12</th>\n",
              "      <td>2021-10-07</td>\n",
              "      <td>71600</td>\n",
              "      <td>300</td>\n",
              "      <td>71600</td>\n",
              "      <td>72100</td>\n",
              "      <td>71300</td>\n",
              "      <td>13683532</td>\n",
              "      <td>72400.0</td>\n",
              "      <td>1.000000</td>\n",
              "      <td>0.000000</td>\n",
              "      <td>100000.000000</td>\n",
              "    </tr>\n",
              "    <tr>\n",
              "      <th>11</th>\n",
              "      <td>2021-10-08</td>\n",
              "      <td>71500</td>\n",
              "      <td>100</td>\n",
              "      <td>72300</td>\n",
              "      <td>72400</td>\n",
              "      <td>71500</td>\n",
              "      <td>14043287</td>\n",
              "      <td>72700.0</td>\n",
              "      <td>1.000000</td>\n",
              "      <td>0.000000</td>\n",
              "      <td>100000.000000</td>\n",
              "    </tr>\n",
              "    <tr>\n",
              "      <th>10</th>\n",
              "      <td>2021-10-12</td>\n",
              "      <td>69000</td>\n",
              "      <td>2500</td>\n",
              "      <td>70700</td>\n",
              "      <td>70900</td>\n",
              "      <td>68700</td>\n",
              "      <td>31001484</td>\n",
              "      <td>71150.0</td>\n",
              "      <td>1.000000</td>\n",
              "      <td>0.000000</td>\n",
              "      <td>100000.000000</td>\n",
              "    </tr>\n",
              "    <tr>\n",
              "      <th>9</th>\n",
              "      <td>2021-10-13</td>\n",
              "      <td>68800</td>\n",
              "      <td>200</td>\n",
              "      <td>68700</td>\n",
              "      <td>69600</td>\n",
              "      <td>68300</td>\n",
              "      <td>24172015</td>\n",
              "      <td>69800.0</td>\n",
              "      <td>1.000000</td>\n",
              "      <td>0.000000</td>\n",
              "      <td>100000.000000</td>\n",
              "    </tr>\n",
              "    <tr>\n",
              "      <th>...</th>\n",
              "      <td>...</td>\n",
              "      <td>...</td>\n",
              "      <td>...</td>\n",
              "      <td>...</td>\n",
              "      <td>...</td>\n",
              "      <td>...</td>\n",
              "      <td>...</td>\n",
              "      <td>...</td>\n",
              "      <td>...</td>\n",
              "      <td>...</td>\n",
              "      <td>...</td>\n",
              "    </tr>\n",
              "    <tr>\n",
              "      <th>5</th>\n",
              "      <td>2022-02-23</td>\n",
              "      <td>73000</td>\n",
              "      <td>400</td>\n",
              "      <td>73800</td>\n",
              "      <td>73800</td>\n",
              "      <td>72800</td>\n",
              "      <td>10397964</td>\n",
              "      <td>74100.0</td>\n",
              "      <td>1.000000</td>\n",
              "      <td>1.268358</td>\n",
              "      <td>104748.815093</td>\n",
              "    </tr>\n",
              "    <tr>\n",
              "      <th>4</th>\n",
              "      <td>2022-02-24</td>\n",
              "      <td>71500</td>\n",
              "      <td>1500</td>\n",
              "      <td>72300</td>\n",
              "      <td>72300</td>\n",
              "      <td>71300</td>\n",
              "      <td>15759283</td>\n",
              "      <td>72800.0</td>\n",
              "      <td>1.000000</td>\n",
              "      <td>1.268358</td>\n",
              "      <td>104748.815093</td>\n",
              "    </tr>\n",
              "    <tr>\n",
              "      <th>3</th>\n",
              "      <td>2022-02-25</td>\n",
              "      <td>71900</td>\n",
              "      <td>400</td>\n",
              "      <td>72100</td>\n",
              "      <td>72600</td>\n",
              "      <td>71900</td>\n",
              "      <td>13168484</td>\n",
              "      <td>72600.0</td>\n",
              "      <td>1.000000</td>\n",
              "      <td>1.268358</td>\n",
              "      <td>104748.815093</td>\n",
              "    </tr>\n",
              "    <tr>\n",
              "      <th>2</th>\n",
              "      <td>2022-02-28</td>\n",
              "      <td>72100</td>\n",
              "      <td>200</td>\n",
              "      <td>71100</td>\n",
              "      <td>72100</td>\n",
              "      <td>71000</td>\n",
              "      <td>17781783</td>\n",
              "      <td>71450.0</td>\n",
              "      <td>1.009097</td>\n",
              "      <td>0.370169</td>\n",
              "      <td>105701.743432</td>\n",
              "    </tr>\n",
              "    <tr>\n",
              "      <th>1</th>\n",
              "      <td>2022-03-02</td>\n",
              "      <td>71700</td>\n",
              "      <td>400</td>\n",
              "      <td>72300</td>\n",
              "      <td>72400</td>\n",
              "      <td>71500</td>\n",
              "      <td>12423835</td>\n",
              "      <td>72850.0</td>\n",
              "      <td>1.000000</td>\n",
              "      <td>1.268358</td>\n",
              "      <td>105701.743432</td>\n",
              "    </tr>\n",
              "  </tbody>\n",
              "</table>\n",
              "<p>100 rows × 11 columns</p>\n",
              "</div>\n",
              "      <button class=\"colab-df-convert\" onclick=\"convertToInteractive('df-ecd48ac3-ec28-46f2-81c1-7e97ea04cada')\"\n",
              "              title=\"Convert this dataframe to an interactive table.\"\n",
              "              style=\"display:none;\">\n",
              "        \n",
              "  <svg xmlns=\"http://www.w3.org/2000/svg\" height=\"24px\"viewBox=\"0 0 24 24\"\n",
              "       width=\"24px\">\n",
              "    <path d=\"M0 0h24v24H0V0z\" fill=\"none\"/>\n",
              "    <path d=\"M18.56 5.44l.94 2.06.94-2.06 2.06-.94-2.06-.94-.94-2.06-.94 2.06-2.06.94zm-11 1L8.5 8.5l.94-2.06 2.06-.94-2.06-.94L8.5 2.5l-.94 2.06-2.06.94zm10 10l.94 2.06.94-2.06 2.06-.94-2.06-.94-.94-2.06-.94 2.06-2.06.94z\"/><path d=\"M17.41 7.96l-1.37-1.37c-.4-.4-.92-.59-1.43-.59-.52 0-1.04.2-1.43.59L10.3 9.45l-7.72 7.72c-.78.78-.78 2.05 0 2.83L4 21.41c.39.39.9.59 1.41.59.51 0 1.02-.2 1.41-.59l7.78-7.78 2.81-2.81c.8-.78.8-2.07 0-2.86zM5.41 20L4 18.59l7.72-7.72 1.47 1.35L5.41 20z\"/>\n",
              "  </svg>\n",
              "      </button>\n",
              "      \n",
              "  <style>\n",
              "    .colab-df-container {\n",
              "      display:flex;\n",
              "      flex-wrap:wrap;\n",
              "      gap: 12px;\n",
              "    }\n",
              "\n",
              "    .colab-df-convert {\n",
              "      background-color: #E8F0FE;\n",
              "      border: none;\n",
              "      border-radius: 50%;\n",
              "      cursor: pointer;\n",
              "      display: none;\n",
              "      fill: #1967D2;\n",
              "      height: 32px;\n",
              "      padding: 0 0 0 0;\n",
              "      width: 32px;\n",
              "    }\n",
              "\n",
              "    .colab-df-convert:hover {\n",
              "      background-color: #E2EBFA;\n",
              "      box-shadow: 0px 1px 2px rgba(60, 64, 67, 0.3), 0px 1px 3px 1px rgba(60, 64, 67, 0.15);\n",
              "      fill: #174EA6;\n",
              "    }\n",
              "\n",
              "    [theme=dark] .colab-df-convert {\n",
              "      background-color: #3B4455;\n",
              "      fill: #D2E3FC;\n",
              "    }\n",
              "\n",
              "    [theme=dark] .colab-df-convert:hover {\n",
              "      background-color: #434B5C;\n",
              "      box-shadow: 0px 1px 3px 1px rgba(0, 0, 0, 0.15);\n",
              "      filter: drop-shadow(0px 1px 2px rgba(0, 0, 0, 0.3));\n",
              "      fill: #FFFFFF;\n",
              "    }\n",
              "  </style>\n",
              "\n",
              "      <script>\n",
              "        const buttonEl =\n",
              "          document.querySelector('#df-ecd48ac3-ec28-46f2-81c1-7e97ea04cada button.colab-df-convert');\n",
              "        buttonEl.style.display =\n",
              "          google.colab.kernel.accessAllowed ? 'block' : 'none';\n",
              "\n",
              "        async function convertToInteractive(key) {\n",
              "          const element = document.querySelector('#df-ecd48ac3-ec28-46f2-81c1-7e97ea04cada');\n",
              "          const dataTable =\n",
              "            await google.colab.kernel.invokeFunction('convertToInteractive',\n",
              "                                                     [key], {});\n",
              "          if (!dataTable) return;\n",
              "\n",
              "          const docLinkHtml = 'Like what you see? Visit the ' +\n",
              "            '<a target=\"_blank\" href=https://colab.research.google.com/notebooks/data_table.ipynb>data table notebook</a>'\n",
              "            + ' to learn more about interactive tables.';\n",
              "          element.innerHTML = '';\n",
              "          dataTable['output_type'] = 'display_data';\n",
              "          await google.colab.output.renderOutput(dataTable, element);\n",
              "          const docLink = document.createElement('div');\n",
              "          docLink.innerHTML = docLinkHtml;\n",
              "          element.appendChild(docLink);\n",
              "        }\n",
              "      </script>\n",
              "    </div>\n",
              "  </div>\n",
              "  "
            ],
            "text/plain": [
              "         date  close  diff   open  ...   target   Percent      Drop         Profit\n",
              "13 2021-10-06  71300   900  72600  ...      NaN  1.000000  0.000000  100000.000000\n",
              "12 2021-10-07  71600   300  71600  ...  72400.0  1.000000  0.000000  100000.000000\n",
              "11 2021-10-08  71500   100  72300  ...  72700.0  1.000000  0.000000  100000.000000\n",
              "10 2021-10-12  69000  2500  70700  ...  71150.0  1.000000  0.000000  100000.000000\n",
              "9  2021-10-13  68800   200  68700  ...  69800.0  1.000000  0.000000  100000.000000\n",
              "..        ...    ...   ...    ...  ...      ...       ...       ...            ...\n",
              "5  2022-02-23  73000   400  73800  ...  74100.0  1.000000  1.268358  104748.815093\n",
              "4  2022-02-24  71500  1500  72300  ...  72800.0  1.000000  1.268358  104748.815093\n",
              "3  2022-02-25  71900   400  72100  ...  72600.0  1.000000  1.268358  104748.815093\n",
              "2  2022-02-28  72100   200  71100  ...  71450.0  1.009097  0.370169  105701.743432\n",
              "1  2022-03-02  71700   400  72300  ...  72850.0  1.000000  1.268358  105701.743432\n",
              "\n",
              "[100 rows x 11 columns]"
            ]
          },
          "metadata": {},
          "execution_count": 165
        }
      ]
    },
    {
      "cell_type": "code",
      "source": [
        "SK = stock('SK하이닉스')\n",
        "SK.make_df()\n",
        "SK.preprocessing()\n",
        "SK.breaking()\n"
      ],
      "metadata": {
        "colab": {
          "base_uri": "https://localhost:8080/"
        },
        "id": "xORf0gfNIbda",
        "outputId": "22b1f29d-b37a-406f-8e08-67edeacdb55b"
      },
      "execution_count": 166,
      "outputs": [
        {
          "output_type": "stream",
          "name": "stdout",
          "text": [
            "http://finance.naver.com/item/sise_day.nhn?code=000660&page=10\n"
          ]
        }
      ]
    },
    {
      "cell_type": "code",
      "source": [
        "LG = stock('LG전자')\n",
        "LG.make_df()\n",
        "LG.preprocessing()\n",
        "LG.breaking()\n"
      ],
      "metadata": {
        "colab": {
          "base_uri": "https://localhost:8080/"
        },
        "id": "RlFE6uhZIcGV",
        "outputId": "6aaf2afa-b534-4641-a952-89b97f520cc8"
      },
      "execution_count": 167,
      "outputs": [
        {
          "output_type": "stream",
          "name": "stdout",
          "text": [
            "http://finance.naver.com/item/sise_day.nhn?code=066570&page=10\n"
          ]
        }
      ]
    },
    {
      "cell_type": "code",
      "source": [
        "GS = stock('GS')\n",
        "GS.make_df()\n",
        "GS.preprocessing()\n",
        "GS.breaking()\n"
      ],
      "metadata": {
        "colab": {
          "base_uri": "https://localhost:8080/"
        },
        "id": "uYPiXviKIcJB",
        "outputId": "560918ce-50ae-4393-a3a5-bb357f9e7dc7"
      },
      "execution_count": 168,
      "outputs": [
        {
          "output_type": "stream",
          "name": "stdout",
          "text": [
            "http://finance.naver.com/item/sise_day.nhn?code=078930&page=10\n"
          ]
        }
      ]
    },
    {
      "cell_type": "code",
      "source": [
        "NAVER = stock('NAVER')\n",
        "NAVER.make_df()\n",
        "NAVER.preprocessing()\n",
        "NAVER.breaking()\n"
      ],
      "metadata": {
        "colab": {
          "base_uri": "https://localhost:8080/"
        },
        "id": "lwI7PsvIIcMD",
        "outputId": "31e39a13-1e80-4550-cdfb-3fb5152c3618"
      },
      "execution_count": 169,
      "outputs": [
        {
          "output_type": "stream",
          "name": "stdout",
          "text": [
            "http://finance.naver.com/item/sise_day.nhn?code=035420&page=10\n"
          ]
        }
      ]
    },
    {
      "cell_type": "code",
      "source": [
        "KB금융 = stock('KB금융')\n",
        "KB금융.make_df()\n",
        "KB금융.preprocessing()\n",
        "KB금융.breaking()\n"
      ],
      "metadata": {
        "colab": {
          "base_uri": "https://localhost:8080/"
        },
        "id": "QBByfqq4IcO9",
        "outputId": "8384d57a-62ca-4876-b4a6-ec4bf2d51f75"
      },
      "execution_count": 170,
      "outputs": [
        {
          "output_type": "stream",
          "name": "stdout",
          "text": [
            "http://finance.naver.com/item/sise_day.nhn?code=105560&page=10\n"
          ]
        }
      ]
    },
    {
      "cell_type": "code",
      "source": [
        "셀트리온 = stock('셀트리온')\n",
        "셀트리온.make_df()\n",
        "셀트리온.preprocessing()\n",
        "셀트리온.breaking()\n"
      ],
      "metadata": {
        "colab": {
          "base_uri": "https://localhost:8080/"
        },
        "id": "ivE3mr7lIcRl",
        "outputId": "697676e3-f381-4e29-987e-040134227d21"
      },
      "execution_count": 171,
      "outputs": [
        {
          "output_type": "stream",
          "name": "stdout",
          "text": [
            "http://finance.naver.com/item/sise_day.nhn?code=068270&page=10\n"
          ]
        }
      ]
    },
    {
      "cell_type": "code",
      "source": [
        "SK바이오사이언스 = stock('SK바이오사이언스')\n",
        "SK바이오사이언스.make_df()\n",
        "SK바이오사이언스.preprocessing()\n",
        "SK바이오사이언스.breaking()\n"
      ],
      "metadata": {
        "colab": {
          "base_uri": "https://localhost:8080/"
        },
        "id": "9zvaOz1VIrxa",
        "outputId": "e9d260e2-d3af-4631-ba81-e14f48ef056b"
      },
      "execution_count": 172,
      "outputs": [
        {
          "output_type": "stream",
          "name": "stdout",
          "text": [
            "http://finance.naver.com/item/sise_day.nhn?code=302440&page=10\n"
          ]
        }
      ]
    },
    {
      "cell_type": "code",
      "source": [
        "카카오 = stock('카카오')\n",
        "카카오.make_df()\n",
        "카카오.preprocessing()\n",
        "카카오.breaking()\n"
      ],
      "metadata": {
        "colab": {
          "base_uri": "https://localhost:8080/"
        },
        "id": "7tMhMtL5Ir0b",
        "outputId": "9f91d4cd-9f0c-4198-a6ec-03a1fb480a94"
      },
      "execution_count": 173,
      "outputs": [
        {
          "output_type": "stream",
          "name": "stdout",
          "text": [
            "http://finance.naver.com/item/sise_day.nhn?code=035720&page=10\n"
          ]
        }
      ]
    },
    {
      "cell_type": "code",
      "source": [
        "넷마블 = stock('넷마블')\n",
        "넷마블.make_df()\n",
        "넷마블.preprocessing()\n",
        "넷마블.breaking()\n"
      ],
      "metadata": {
        "colab": {
          "base_uri": "https://localhost:8080/"
        },
        "id": "_TwOGEr7Itmj",
        "outputId": "e34bb959-71f2-4ca2-d81a-879f16759c87"
      },
      "execution_count": 174,
      "outputs": [
        {
          "output_type": "stream",
          "name": "stdout",
          "text": [
            "http://finance.naver.com/item/sise_day.nhn?code=251270&page=10\n"
          ]
        }
      ]
    },
    {
      "cell_type": "code",
      "source": [
        "stocks = [samsung, SK, LG, GS, NAVER, KB금융, 셀트리온, SK바이오사이언스, 카카오, 넷마블]\n",
        "for i in stocks:\n",
        "  print(i.company)\n",
        "  print(i.df.Profit)\n",
        "  print()"
      ],
      "metadata": {
        "colab": {
          "base_uri": "https://localhost:8080/"
        },
        "id": "rLxXs8_jLAaE",
        "outputId": "8fc186a6-088f-4627-e3e1-e6a234b1a889"
      },
      "execution_count": 175,
      "outputs": [
        {
          "output_type": "stream",
          "name": "stdout",
          "text": [
            "삼성전자\n",
            "13    100000.000000\n",
            "12    100000.000000\n",
            "11    100000.000000\n",
            "10    100000.000000\n",
            "9     100000.000000\n",
            "          ...      \n",
            "5     104748.815093\n",
            "4     104748.815093\n",
            "3     104748.815093\n",
            "2     105701.743432\n",
            "1     105701.743432\n",
            "Name: Profit, Length: 100, dtype: float64\n",
            "\n",
            "SK하이닉스\n",
            "13    100000.000000\n",
            "12    100000.000000\n",
            "11    100000.000000\n",
            "10    100000.000000\n",
            "9     100054.377379\n",
            "          ...      \n",
            "5     106434.462842\n",
            "4     106434.462842\n",
            "3     106434.462842\n",
            "2     106434.462842\n",
            "1     105799.664852\n",
            "Name: Profit, Length: 100, dtype: float64\n",
            "\n",
            "LG전자\n",
            "13    100000.000000\n",
            "12     99598.393574\n",
            "11     99598.393574\n",
            "10     99397.994392\n",
            "9      99397.994392\n",
            "          ...      \n",
            "5     104956.662192\n",
            "4     102477.370960\n",
            "3     102477.370960\n",
            "2     102477.370960\n",
            "1     101858.795280\n",
            "Name: Profit, Length: 100, dtype: float64\n",
            "\n",
            "GS\n",
            "13    100000.000000\n",
            "12    100000.000000\n",
            "11    100000.000000\n",
            "10    100278.551532\n",
            "9     100278.551532\n",
            "          ...      \n",
            "5      99272.232561\n",
            "4     100816.604567\n",
            "3     100816.604567\n",
            "2     100816.604567\n",
            "1     102113.082642\n",
            "Name: Profit, Length: 100, dtype: float64\n",
            "\n",
            "NAVER\n",
            "13    100000.000000\n",
            "12    101811.125485\n",
            "11    101811.125485\n",
            "10    101811.125485\n",
            "9     102346.973514\n",
            "          ...      \n",
            "5      99839.650810\n",
            "4      99839.650810\n",
            "3     100963.248166\n",
            "2     100883.936895\n",
            "1     100883.936895\n",
            "Name: Profit, Length: 100, dtype: float64\n",
            "\n",
            "KB금융\n",
            "13    100000.000000\n",
            "12    100359.712230\n",
            "11    100359.712230\n",
            "10    100728.681760\n",
            "9     100728.681760\n",
            "          ...      \n",
            "5     107008.675001\n",
            "4     107008.675001\n",
            "3     107008.675001\n",
            "2     107008.675001\n",
            "1     107008.675001\n",
            "Name: Profit, Length: 100, dtype: float64\n",
            "\n",
            "셀트리온\n",
            "13    100000.000000\n",
            "12    100000.000000\n",
            "11    102050.113895\n",
            "10    102050.113895\n",
            "9     101578.750783\n",
            "          ...      \n",
            "5     102636.550798\n",
            "4     102636.550798\n",
            "3     102636.550798\n",
            "2     104939.293924\n",
            "1     102679.062978\n",
            "Name: Profit, Length: 100, dtype: float64\n",
            "\n",
            "SK바이오사이언스\n",
            "13    100000.000000\n",
            "12    100000.000000\n",
            "11    100000.000000\n",
            "10    101402.373247\n",
            "9     101402.373247\n",
            "          ...      \n",
            "5      95500.678538\n",
            "4      95500.678538\n",
            "3      95500.678538\n",
            "2      97164.453425\n",
            "1      97164.453425\n",
            "Name: Profit, Length: 100, dtype: float64\n",
            "\n",
            "카카오\n",
            "13    100000.000000\n",
            "12    102136.752137\n",
            "11    102136.752137\n",
            "10    102136.752137\n",
            "9     102355.460385\n",
            "          ...      \n",
            "5      99391.268218\n",
            "4      99391.268218\n",
            "3     100509.220351\n",
            "2     100509.220351\n",
            "1     100509.220351\n",
            "Name: Profit, Length: 100, dtype: float64\n",
            "\n",
            "넷마블\n",
            "13    100000.000000\n",
            "12     99793.814433\n",
            "11     99793.814433\n",
            "10     99793.814433\n",
            "9      99379.732215\n",
            "          ...      \n",
            "5      92337.851036\n",
            "4      90305.966783\n",
            "3      89911.234534\n",
            "2      89911.234534\n",
            "1      89261.273803\n",
            "Name: Profit, Length: 100, dtype: float64\n",
            "\n"
          ]
        }
      ]
    },
    {
      "cell_type": "code",
      "source": [
        "stocks = [samsung, SK, LG, GS, NAVER, KB금융, 셀트리온, SK바이오사이언스, 카카오, 넷마블]\n",
        "a = 0\n",
        "for i in stocks:\n",
        "  a += i.df.Profit\n",
        "\n",
        "print(a/10)\n"
      ],
      "metadata": {
        "colab": {
          "base_uri": "https://localhost:8080/"
        },
        "id": "nvbtPYgnOqGM",
        "outputId": "af308844-8fb9-48a3-80b3-4672d0e70281"
      },
      "execution_count": 177,
      "outputs": [
        {
          "output_type": "stream",
          "name": "stdout",
          "text": [
            "13    100000.000000\n",
            "12    100369.979786\n",
            "11    100574.991175\n",
            "10    100759.940688\n",
            "9     100752.289521\n",
            "          ...      \n",
            "5     101212.684709\n",
            "4     100916.004361\n",
            "3     101100.686085\n",
            "2     101584.699593\n",
            "1     101297.990866\n",
            "Name: Profit, Length: 100, dtype: float64\n"
          ]
        }
      ]
    },
    {
      "cell_type": "markdown",
      "source": [
        "# 잘못된 방법으로 했나?\n",
        "거래량 가중 평균가는 후행성 지표이며, 이는 가격을 예측하는 특성이 없음을 의미합니다. 일부 트레이더는 하루 동안의 분석에 거래량 가중 평균가를 사용할 때 가장 유용하다고 주장합니다. 다른 시장 분석 도구와 마찬가지로, 거래량 가중 평균가는 단독으로 해석되어서는 안 되며, 다른 기술과 조합해 사용할 때 효과가 가장 좋습니다."
      ],
      "metadata": {
        "id": "c9zR-QGOPWbw"
      }
    },
    {
      "cell_type": "code",
      "source": [
        ""
      ],
      "metadata": {
        "id": "qQ-UznhcUM1c"
      },
      "execution_count": null,
      "outputs": []
    }
  ]
}